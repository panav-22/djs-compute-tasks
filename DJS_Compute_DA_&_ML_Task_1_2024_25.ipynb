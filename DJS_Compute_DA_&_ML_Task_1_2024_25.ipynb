{
  "nbformat": 4,
  "nbformat_minor": 0,
  "metadata": {
    "colab": {
      "provenance": [],
      "include_colab_link": true
    },
    "kernelspec": {
      "name": "python3",
      "display_name": "Python 3"
    },
    "language_info": {
      "name": "python"
    }
  },
  "cells": [
    {
      "cell_type": "markdown",
      "metadata": {
        "id": "view-in-github",
        "colab_type": "text"
      },
      "source": [
        "<a href=\"https://colab.research.google.com/github/panav-22/djs-compute-tasks/blob/main/DJS_Compute_DA_%26_ML_Task_1_2024_25.ipynb\" target=\"_parent\"><img src=\"https://colab.research.google.com/assets/colab-badge.svg\" alt=\"Open In Colab\"/></a>"
      ]
    },
    {
      "cell_type": "markdown",
      "source": [
        "**General Instructions:**\n",
        "\n",
        "*   Please make a copy of this colab notebook in your own drive and solve the questions in the copy. Do not edit the original file.\n",
        "\n",
        "*   All participants are encouraged to learn the basics of python including data types, operators, loops, conditional statements, handling user-defined input, strings, string methods, lists, list comprehension, sets, tuples, dictionaries and basic object-oriented programming concepts before coming to the interview.\n",
        "\n",
        "Beginners unfamiliar with Python are advised to watch the following tutorial before beginning Task 1.\n",
        "\n",
        "**Python Tutorial:** https://youtu.be/_uQrJ0TkZlc?feature=shared\n",
        "\n",
        "\n",
        "**Note:** The expected output is given in the cells below the question.\n"
      ],
      "metadata": {
        "id": "PiZZfxvj57LK"
      }
    },
    {
      "cell_type": "markdown",
      "source": [
        "# Task 1 - Basics of Python\n",
        "\n",
        "\n",
        "\n",
        "> It is the year 3031 and the Earth has been invaded by an alien species from the planet of Dioneterra. The resources on their own planet have become severely depleted and they're determined to subjugate humans and take control of the Earth's resources. The Dioneterrans can take on the appearance of any human. The world has been thrown into chaos and fear as the aliens have infiltrated all levels of government. You don't know who to trust as anyone can be an alien in disguise.\n",
        "\n",
        "\n",
        "\n",
        "\n"
      ],
      "metadata": {
        "id": "FgdtUgoiauGY"
      }
    },
    {
      "cell_type": "markdown",
      "source": [
        "**Question 1:**\n",
        "You have a group of people you can trust, whose identities you have confirmed as humans. Unfortunately, since the aliens have access to government resources they have information on all citizens. It would be the height of foolishness to call your team members by their own names while on missions to save humanity. As such you need to generate secret code names for each member.\n",
        "\n",
        "Given below is a list of names. Your job is to write a function codename_generator() that takes the given list as input and prints every possible combination of code names from the given list, separated by whitespace (e.g. Orion Barracuda). Take care to not print codenames with the same name twice (e.g. Orion Orion) or two codenames with the same combination (e.g. if you have a codename Orion Barracuda, then you cannot have a codename Barracuda Orion)."
      ],
      "metadata": {
        "id": "jk_UOVbvcfJb"
      }
    },
    {
      "cell_type": "code",
      "execution_count": 34,
      "metadata": {
        "id": "LmwLUF-kahv0"
      },
      "outputs": [],
      "source": [
        "name_list = [\"Orion\", \"Barracuda\", \"Amethyst\", \"Blade\", \"Wasp\", \"Nemesis\", \"Fury\", \"Cobra\", \"Tempest\", \"Leo\", \"Scythe\"]"
      ]
    },
    {
      "cell_type": "code",
      "source": [
        "from itertools import permutations\n",
        "\n",
        "def codename_generator(names):\n",
        "    # Generate all possible permutations of the names with length 2\n",
        "    codenames = permutations(names, 2)\n",
        "\n",
        "    # Print each unique combination\n",
        "    for codename in codenames:\n",
        "        print(f\"{codename[0]} {codename[1]}\")\n",
        "\n",
        "# Example usage\n",
        "names = [\"Orion\", \"Barracuda\", \"Amethyst\", \"Blade\", \"Wasp\", \"Nemesis\", \"Fury\", \"Cobra\", \"Tempest\", \"Leo\", \"Scythe\"]\n",
        "codename_generator(names)\n"
      ],
      "metadata": {
        "colab": {
          "base_uri": "https://localhost:8080/"
        },
        "id": "H3vbMHoYf5Q1",
        "outputId": "83ebb2a2-27e0-4827-bee3-23ff913b2372"
      },
      "execution_count": 51,
      "outputs": [
        {
          "output_type": "stream",
          "name": "stdout",
          "text": [
            "Orion Barracuda\n",
            "Orion Amethyst\n",
            "Orion Blade\n",
            "Orion Wasp\n",
            "Orion Nemesis\n",
            "Orion Fury\n",
            "Orion Cobra\n",
            "Orion Tempest\n",
            "Orion Leo\n",
            "Orion Scythe\n",
            "Barracuda Orion\n",
            "Barracuda Amethyst\n",
            "Barracuda Blade\n",
            "Barracuda Wasp\n",
            "Barracuda Nemesis\n",
            "Barracuda Fury\n",
            "Barracuda Cobra\n",
            "Barracuda Tempest\n",
            "Barracuda Leo\n",
            "Barracuda Scythe\n",
            "Amethyst Orion\n",
            "Amethyst Barracuda\n",
            "Amethyst Blade\n",
            "Amethyst Wasp\n",
            "Amethyst Nemesis\n",
            "Amethyst Fury\n",
            "Amethyst Cobra\n",
            "Amethyst Tempest\n",
            "Amethyst Leo\n",
            "Amethyst Scythe\n",
            "Blade Orion\n",
            "Blade Barracuda\n",
            "Blade Amethyst\n",
            "Blade Wasp\n",
            "Blade Nemesis\n",
            "Blade Fury\n",
            "Blade Cobra\n",
            "Blade Tempest\n",
            "Blade Leo\n",
            "Blade Scythe\n",
            "Wasp Orion\n",
            "Wasp Barracuda\n",
            "Wasp Amethyst\n",
            "Wasp Blade\n",
            "Wasp Nemesis\n",
            "Wasp Fury\n",
            "Wasp Cobra\n",
            "Wasp Tempest\n",
            "Wasp Leo\n",
            "Wasp Scythe\n",
            "Nemesis Orion\n",
            "Nemesis Barracuda\n",
            "Nemesis Amethyst\n",
            "Nemesis Blade\n",
            "Nemesis Wasp\n",
            "Nemesis Fury\n",
            "Nemesis Cobra\n",
            "Nemesis Tempest\n",
            "Nemesis Leo\n",
            "Nemesis Scythe\n",
            "Fury Orion\n",
            "Fury Barracuda\n",
            "Fury Amethyst\n",
            "Fury Blade\n",
            "Fury Wasp\n",
            "Fury Nemesis\n",
            "Fury Cobra\n",
            "Fury Tempest\n",
            "Fury Leo\n",
            "Fury Scythe\n",
            "Cobra Orion\n",
            "Cobra Barracuda\n",
            "Cobra Amethyst\n",
            "Cobra Blade\n",
            "Cobra Wasp\n",
            "Cobra Nemesis\n",
            "Cobra Fury\n",
            "Cobra Tempest\n",
            "Cobra Leo\n",
            "Cobra Scythe\n",
            "Tempest Orion\n",
            "Tempest Barracuda\n",
            "Tempest Amethyst\n",
            "Tempest Blade\n",
            "Tempest Wasp\n",
            "Tempest Nemesis\n",
            "Tempest Fury\n",
            "Tempest Cobra\n",
            "Tempest Leo\n",
            "Tempest Scythe\n",
            "Leo Orion\n",
            "Leo Barracuda\n",
            "Leo Amethyst\n",
            "Leo Blade\n",
            "Leo Wasp\n",
            "Leo Nemesis\n",
            "Leo Fury\n",
            "Leo Cobra\n",
            "Leo Tempest\n",
            "Leo Scythe\n",
            "Scythe Orion\n",
            "Scythe Barracuda\n",
            "Scythe Amethyst\n",
            "Scythe Blade\n",
            "Scythe Wasp\n",
            "Scythe Nemesis\n",
            "Scythe Fury\n",
            "Scythe Cobra\n",
            "Scythe Tempest\n",
            "Scythe Leo\n"
          ]
        }
      ]
    },
    {
      "cell_type": "markdown",
      "source": [
        "**Question 2:**\n",
        "You recently caught wind of the rumour that a Resistance Movement against the aliens is starting to gain traction. You and your group of trustworthy humans resolve to go to the headquarters of the Resistance and join the movement.\n",
        "\n",
        "You reach the headquarters and find utter chaos, the leader of the Resistance tells you that they have so many refugees and as a result their registration system is a mess and they have no way of telling apart actual humans and aliens who might have infiltrated the headquarters as humans.\n",
        "\n",
        "He knows that you have programming skills and asks for your help in weeding out the aliens.\n",
        "\n",
        "Given below in the form of a list is the register of names of refugees that the headquarters maintains. Sort the names into two lists - potential aliens and humans. Alien names may:\n",
        "*   begin with the letter 'G'\n",
        "*   contain the substring 'arz'\n",
        "*   contain a digit\n",
        "\n",
        "Additionally, ensure that the new lists do not contain duplicate names and handle any problems that may arise due to case-sensitivity and whitespaces.\n",
        "\n"
      ],
      "metadata": {
        "id": "gezvSe3_hgoU"
      }
    },
    {
      "cell_type": "code",
      "source": [
        "register = [\"Gunther\", \"karzan\", \"pip1do\", \"amelia\", \"emma\", \"jarzk\", \"P0ppy\", \"gunther\", \"Daisy\",\" Demelza \", \"Lisa \", \"garzon \", \"marz4\"]"
      ],
      "metadata": {
        "id": "xqobzAhOunhf"
      },
      "execution_count": 36,
      "outputs": []
    },
    {
      "cell_type": "code",
      "source": [
        "def sort_refugees(refugee_list):\n",
        "\n",
        "  potential_aliens = set()\n",
        "  humans = set()\n",
        "\n",
        "  for name in refugee_list:\n",
        "    # Handle case-sensitivity and whitespaces\n",
        "    name = name.strip().lower()\n",
        "\n",
        "    if name.startswith('g') or 'arz' in name or any(char.isdigit() for char in name):\n",
        "      potential_aliens.add(name)\n",
        "    else:\n",
        "      humans.add(name)\n",
        "\n",
        "  return list(potential_aliens), list(humans)\n",
        "\n",
        "# Example usage:\n",
        "refugees = [\"Gunther\", \"karzan\", \"pip1do\", \"amelia\", \"emma\", \"jarzk\", \"P0ppy\", \"gunther\", \"Daisy\",\" Demelza \", \"Lisa \", \"garzon \", \"marz4\"]\n",
        "potential_aliens, humans = sort_refugees(refugees)\n",
        "print(\"Potential Aliens:\", potential_aliens)\n",
        "print(\"Humans:\", humans)"
      ],
      "metadata": {
        "colab": {
          "base_uri": "https://localhost:8080/"
        },
        "id": "nUA9iCkQplNf",
        "outputId": "e4dcaea1-99b7-4af3-d84f-d2310fce3bfb"
      },
      "execution_count": 56,
      "outputs": [
        {
          "output_type": "stream",
          "name": "stdout",
          "text": [
            "Potential Aliens: ['pip1do', 'jarzk', 'gunther', 'garzon', 'p0ppy', 'marz4', 'karzan']\n",
            "Humans: ['daisy', 'amelia', 'demelza', 'lisa', 'emma']\n"
          ]
        }
      ]
    },
    {
      "cell_type": "markdown",
      "source": [
        "**Question 3:** Now that you have identified the potential aliens, its now time to decide how probable it is that these refugees are aliens.\n",
        "\n",
        "Prepare a dictionary where the keys are the names from the potential aliens list and the associated values are percentages from 0-100 of how probable it is that the refugee with those names are aliens.\n",
        "\n",
        "Given below are the conditions and associated probabilities:\n",
        "*   name starts with 'g' - 25%\n",
        "*   name contains \"arz\" - 50%\n",
        "*   name starts with 'g' and contains \"arz\" - 75%\n",
        "*   name has a digit - 100%"
      ],
      "metadata": {
        "id": "coC9Sbqd0bq0"
      }
    },
    {
      "cell_type": "code",
      "source": [
        "def calculate_probabilities(potential_aliens):\n",
        "    probabilities = {}\n",
        "\n",
        "    for name in potential_aliens:\n",
        "        clean_name = name.strip().lower()\n",
        "        probability = 0\n",
        "\n",
        "        if any(char.isdigit() for char in clean_name):\n",
        "            probability = 100\n",
        "        elif clean_name.startswith('g') and 'arz' in clean_name:\n",
        "            probability = 75\n",
        "        elif clean_name.startswith('g'):\n",
        "            probability = 25\n",
        "        elif 'arz' in clean_name:\n",
        "            probability = 50\n",
        "\n",
        "        probabilities[name.capitalize()] = probability\n",
        "\n",
        "    return probabilities\n",
        "\n",
        "potential_aliens = ['Gunther', 'Karzan', 'Pip1do', 'Jarzk', 'P0ppy', 'Garzon', 'Marz4']\n",
        "probabilities = calculate_probabilities(potential_aliens)\n",
        "\n",
        "print(probabilities)\n"
      ],
      "metadata": {
        "colab": {
          "base_uri": "https://localhost:8080/"
        },
        "id": "aPuIzBQv2sSS",
        "outputId": "289bcd10-204b-4b2e-8b5c-b3bc877bb858"
      },
      "execution_count": 38,
      "outputs": [
        {
          "output_type": "stream",
          "name": "stdout",
          "text": [
            "{'Gunther': 25, 'Karzan': 50, 'Pip1do': 100, 'Jarzk': 50, 'P0ppy': 100, 'Garzon': 75, 'Marz4': 100}\n"
          ]
        }
      ]
    },
    {
      "cell_type": "markdown",
      "source": [
        "**Question 4:** Now that you have completely weeded out the aliens, onto the next part of the plan.\n",
        "\n",
        "There are 12 districts in your city - I to XII. Another resistance group has agreed to share supplies with your group. They send you a list of districts they are operational in and you have in hand, the list of districts your group has members in. Determine which districts you can meet up in, i.e., districts that both the groups operate in.\n",
        "\n",
        "Hint: set operations may prove useful."
      ],
      "metadata": {
        "id": "6z7Wr4BD8xSA"
      }
    },
    {
      "cell_type": "code",
      "source": [
        "your_districts = ['I', 'IV', 'V', 'I', 'VI', 'IX', 'X', 'II', 'III', 'I']\n",
        "their_districts = ['V', 'IV', 'VI', 'XII', 'VII', 'IV', 'VI', 'VIII', 'III']"
      ],
      "metadata": {
        "id": "xUCGsUO9-use"
      },
      "execution_count": 39,
      "outputs": []
    },
    {
      "cell_type": "code",
      "source": [
        "def find_common_districts(group1_districts, group2_districts):\n",
        "    # Convert lists to sets\n",
        "    set1 = set(group1_districts)\n",
        "    set2 = set(group2_districts)\n",
        "\n",
        "    # Find the intersection of both sets\n",
        "    common_districts = set1.intersection(set2)\n",
        "\n",
        "    return common_districts\n",
        "\n",
        "group1_districts = [\"I\", \"III\", \"V\", \"VII\", \"IX\", \"XI\"]\n",
        "group2_districts = [\"II\", \"III\", \"IV\", \"VII\", \"X\", \"XI\"]\n",
        "\n",
        "common_districts = find_common_districts(group1_districts, group2_districts)\n",
        "\n",
        "print(\"Common Districts:\", common_districts)\n"
      ],
      "metadata": {
        "colab": {
          "base_uri": "https://localhost:8080/"
        },
        "id": "y7MSDDAL_ZhT",
        "outputId": "e683434a-abb9-4412-d4b7-fb789eb1a940"
      },
      "execution_count": 40,
      "outputs": [
        {
          "output_type": "stream",
          "name": "stdout",
          "text": [
            "Common Districts: {'XI', 'III', 'VII'}\n"
          ]
        }
      ]
    },
    {
      "cell_type": "markdown",
      "source": [
        "Let's take the difficulty up a notch shall we? Your spies have informed you that the alien goverment has been setting up patrols in some districts to curb rebel movement. One of the spies managed to get a list of the districts that are being patrolled. Ensure that your meet up with the other rebel group does not take place in a patrolled district so that you do not get caught."
      ],
      "metadata": {
        "id": "0MHXt5lKAYIW"
      }
    },
    {
      "cell_type": "code",
      "source": [
        "patrolled_districts = ['I', 'II', 'XII', 'IX', 'XI', 'IV', 'II', 'VI']"
      ],
      "metadata": {
        "id": "M-2hfJTOCfAz"
      },
      "execution_count": 41,
      "outputs": []
    },
    {
      "cell_type": "code",
      "source": [
        "# Lists of districts for both groups\n",
        "your_group_districts = [\"I\", \"III\", \"V\", \"VII\", \"IX\", \"XI\"]\n",
        "other_group_districts = [\"II\", \"III\", \"VI\", \"VII\", \"X\", \"XI\"]\n",
        "patrolled_districts = ['I', 'II', 'XII', 'IX', 'XI', 'IV', 'VI']  # Updated list of patrolled districts\n",
        "\n",
        "# Find common districts\n",
        "common_districts = list(set(your_group_districts) & set(other_group_districts))\n",
        "\n",
        "# Filter out patrolled districts\n",
        "safe_meetup_districts = [district for district in common_districts if district not in patrolled_districts]\n",
        "\n",
        "print(\"Safe districts where both groups can meet up:\", safe_meetup_districts)\n"
      ],
      "metadata": {
        "colab": {
          "base_uri": "https://localhost:8080/"
        },
        "id": "bYjT2EfTC0uu",
        "outputId": "85120b7f-8b90-4261-be20-d27a0d34ad98"
      },
      "execution_count": 42,
      "outputs": [
        {
          "output_type": "stream",
          "name": "stdout",
          "text": [
            "Safe districts where both groups can meet up: ['III', 'VII']\n"
          ]
        }
      ]
    },
    {
      "cell_type": "markdown",
      "source": [
        "**Question 5:** Given below is a set of tuples. Each tuple in this set contains the rank and the name of a Dioneterran Commander. Your job is to define two functions: sort_by_rank() in descending order and sort_by_name() alphabetically to sort the given set by rank and name, respectively.\n",
        "\n",
        "Hint: use lambda expressions"
      ],
      "metadata": {
        "id": "hryYd_ubD2U8"
      }
    },
    {
      "cell_type": "code",
      "source": [
        "commanders = {(4, \"Barzak\"), (2, \"Donesia\"), (5, \"Zeroza\"), (1, \"Yggacia\"), (3, \"Larzon\")}"
      ],
      "metadata": {
        "id": "XniLIPBoGrl9"
      },
      "execution_count": 43,
      "outputs": []
    },
    {
      "cell_type": "code",
      "source": [
        "# Given set of Dioneterran Commanders\n",
        "commanders = {(4, \"Barzak\"), (2, \"Donesia\"), (5, \"Zeroza\"), (1, \"Yggacia\"), (3, \"Larzon\")}\n",
        "\n",
        "# Function to sort by rank in descending order\n",
        "def sort_by_rank(commanders):\n",
        "    return sorted(commanders, key=lambda x: x[0], reverse=True)\n",
        "\n",
        "# Function to sort by name alphabetically\n",
        "def sort_by_name(commanders):\n",
        "    return sorted(commanders, key=lambda x: x[1])\n",
        "\n",
        "# Sorting by rank\n",
        "sorted_by_rank = sort_by_rank(commanders)\n",
        "print(\"Sorted by rank (descending):\", sorted_by_rank)\n",
        "\n",
        "# Sorting by name\n",
        "sorted_by_name = sort_by_name(commanders)\n",
        "print(\"Sorted by name (alphabetically):\", sorted_by_name)\n"
      ],
      "metadata": {
        "colab": {
          "base_uri": "https://localhost:8080/"
        },
        "id": "bjq8PTTOHh56",
        "outputId": "57c8f3c0-6884-4d09-f3e3-e15ce2fd0ac7"
      },
      "execution_count": 44,
      "outputs": [
        {
          "output_type": "stream",
          "name": "stdout",
          "text": [
            "Sorted by rank (descending): [(5, 'Zeroza'), (4, 'Barzak'), (3, 'Larzon'), (2, 'Donesia'), (1, 'Yggacia')]\n",
            "Sorted by name (alphabetically): [(4, 'Barzak'), (2, 'Donesia'), (3, 'Larzon'), (1, 'Yggacia'), (5, 'Zeroza')]\n"
          ]
        }
      ]
    },
    {
      "cell_type": "markdown",
      "source": [
        "**Question 6:** You have been given the task of calculating the danger level of Dioneterran Commanders. To accomplish this task, you're required to define a class Commander with the attributes name, rank, weight, height and age. Implement a method calculate_danger() that returns the danger level by adding the height to the weight and dividing the result by the age, round off to the nearest integer.\n",
        "\n",
        "Create a Commander object with the necessary parameters and print the danger level."
      ],
      "metadata": {
        "id": "90Nijs1KIZZ0"
      }
    },
    {
      "cell_type": "code",
      "source": [
        "class Commander:\n",
        "    def __init__(self, name, rank, weight, height, age):\n",
        "        self.name = name\n",
        "        self.rank = rank\n",
        "        self.weight = weight\n",
        "        self.height = height\n",
        "        self.age = age\n",
        "\n",
        "    def calculate_danger(self):\n",
        "        danger_level = (self.height + self.weight) / self.age\n",
        "        return round(danger_level)\n",
        "\n",
        "# Create a Commander object with the necessary parameters\n",
        "commander = Commander(name=\"Barzak\", rank=4, weight=80, height=180, age=35)\n",
        "\n",
        "# Print the danger level\n",
        "print(\"Danger level of the commander:\", commander.calculate_danger())\n"
      ],
      "metadata": {
        "colab": {
          "base_uri": "https://localhost:8080/"
        },
        "id": "gnI1a0TFLoqh",
        "outputId": "991b5ac6-aa65-4708-ae17-577a21a0888d"
      },
      "execution_count": 48,
      "outputs": [
        {
          "output_type": "stream",
          "name": "stdout",
          "text": [
            "Danger level of the commander: 7\n"
          ]
        }
      ]
    },
    {
      "cell_type": "markdown",
      "source": [
        "**Question 7:** All the refugees in the headquarters who have been confirmed as humans have been assigned an ID. A lock has been installed at the gate. Your job is to write a regular expression that checks whether the ID entered is a valid one. Valid IDs have the following features:\n",
        "*   They are strings of exactly 7 characters\n",
        "*   The first 3 characters are uppercase alphabets\n",
        "*   The other last 4 characters are digits.\n",
        "\n",
        "Given below is a list of IDs entered at the gate. Determine which ones are valid.\n",
        "\n",
        "\n",
        "P.S. Don't forget to import the re module"
      ],
      "metadata": {
        "id": "74iydRkwULOi"
      }
    },
    {
      "cell_type": "code",
      "source": [
        "test_ids = [\"ABC1234\", \"sbaz56\", \"Wuy1452\", \"TYP9006\", \"KZED439\"]"
      ],
      "metadata": {
        "id": "WcroHcC4VUaY"
      },
      "execution_count": 46,
      "outputs": []
    },
    {
      "cell_type": "code",
      "source": [
        "# your code here"
      ],
      "metadata": {
        "id": "_Gj97hjmVpGG"
      },
      "execution_count": 47,
      "outputs": []
    },
    {
      "cell_type": "markdown",
      "source": [
        "For a better understanding of Regular Expressions: https://realpython.com/regex-python/"
      ],
      "metadata": {
        "id": "ZlnxyGHm7z0J"
      }
    }
  ]
}